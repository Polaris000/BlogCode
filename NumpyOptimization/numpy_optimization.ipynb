{
  "cells": [
    {
      "cell_type": "markdown",
      "metadata": {
        "id": "8XIygW9weyGO"
      },
      "source": [
        "## About\n",
        "In a recent project, we decided to use AUC-Recall@K as our primary metric for evaluating our model. We defined it as the proportion of area under an ideal Recall@k curve that our model achieved.\n",
        "\n",
        "My first implementation used NumPy's functions and the performance wasn't bad at all, but it made me wonder how much better I could have done.. and how much worse.\n",
        "\n",
        "This notebook contains the code discussed in the accompanying blogpost on Medium.com.\n",
        "\n",
        "**Note**  \n",
        "The exact times you get may vary."
      ]
    },
    {
      "cell_type": "markdown",
      "metadata": {
        "id": "EjGPQIGTelzk"
      },
      "source": [
        "### Imports and Config"
      ]
    },
    {
      "cell_type": "code",
      "execution_count": 1,
      "metadata": {
        "id": "_1o35J7r1WxI"
      },
      "outputs": [],
      "source": [
        "import sklearn\n",
        "from sklearn.metrics import make_scorer\n",
        "import seaborn as sns\n",
        "import numpy as np\n",
        "import pandas as pd\n",
        "import matplotlib.pyplot as plt\n",
        "from numba import jit"
      ]
    },
    {
      "cell_type": "code",
      "execution_count": 2,
      "metadata": {
        "id": "uOrS1W6aBCR4"
      },
      "outputs": [],
      "source": [
        "sns.set_style(\"darkgrid\")\n",
        "plt.rcParams[\"figure.figsize\"] = [15, 8]"
      ]
    },
    {
      "cell_type": "markdown",
      "metadata": {
        "id": "nm67b0xHei0H"
      },
      "source": [
        "### Experiments"
      ]
    },
    {
      "cell_type": "code",
      "execution_count": 3,
      "metadata": {
        "id": "F54x-W_i1hJa"
      },
      "outputs": [],
      "source": [
        "def auc_recall_at_k(y_true, y_conf):\n",
        "    \"\"\"\n",
        "    Compute AUC under the Recall@k curve.\n",
        "\n",
        "    y_true: A numpy array of expected predictions\n",
        "    y_conf: A numpy array of the model's confidence\n",
        "            scores for each datapoint\n",
        "            \n",
        "    Returns: AUC-Recall@k (float)\n",
        "    \"\"\"\n",
        "\n",
        "    # if there are no positive targets (good leads),\n",
        "    # auc becomes invalid\n",
        "    if y_true.count(1) == 0:\n",
        "        return np.nan\n",
        "\n",
        "    conf_df = pd.DataFrame()\n",
        "    conf_df[\"conf\"] = y_conf\n",
        "    conf_df[\"expected\"] = y_true\n",
        "    conf_df.columns = [\"conf\", \"expected\"]\n",
        "    conf_df = conf_df.sort_values(\"conf\", ascending=False)\n",
        "\n",
        "    recall_at_k = []\n",
        "\n",
        "    # calculating recall@k\n",
        "    for i in range(len(conf_df)):\n",
        "        recall_at_k.append(\n",
        "            conf_df.iloc[:i+1, :][\"expected\"].to_list().count(1)\n",
        "            / conf_df[\"expected\"].to_list().count(1)\n",
        "        )\n",
        "\n",
        "    # calculating ideal recall@k\n",
        "    ideal_recall_at_k = np.minimum(\n",
        "        np.ones(len(conf_df)),\n",
        "        np.array(list(range(1, len(conf_df[\"expected\"]) + 1)))/ conf_df[\"expected\"].to_list().count(1)\n",
        "    )\n",
        "\n",
        "    # Computing our final metric by getting the proportion of the areas\n",
        "    # under these two curves\n",
        "    return np.trapz(recall_at_k) / np.trapz(ideal_recall_at_k)"
      ]
    },
    {
      "cell_type": "code",
      "execution_count": 4,
      "metadata": {
        "id": "AYPcI63Igy1q"
      },
      "outputs": [],
      "source": [
        "def auc_recall_at_k_np(y_true, y_conf):\n",
        "    \"\"\"\n",
        "    Experiment #2:\n",
        "    --------------\n",
        "    Compute AUC under the Recall@k curve using numpy's\n",
        "    functions.\n",
        "\n",
        "    y_true: A numpy array of expected predictions\n",
        "    y_conf: A numpy array of the model's confidence\n",
        "            scores for each datapoint\n",
        "            \n",
        "    Returns: AUC-Recall@k (float)\n",
        "    \"\"\"\n",
        "\n",
        "    # if there are no positive targets (good leads),\n",
        "    # auc becomes invalid\n",
        "    if y_true.count(1) == 0:\n",
        "        return np.nan\n",
        "\n",
        "    conf_df = pd.DataFrame()\n",
        "    conf_df[\"conf\"] = y_conf\n",
        "    conf_df[\"expected\"] = y_true\n",
        "    conf_df.columns = [\"conf\", \"expected\"]\n",
        "    conf_df = conf_df.sort_values(\"conf\", ascending=False)\n",
        "\n",
        "    ranking = conf_df[\"expected\"].to_numpy()\n",
        "\n",
        "    recall_at_k = (ranking == 1).cumsum() / (ranking == 1).sum()\n",
        "\n",
        "    # calculating ideal recall@k\n",
        "    ideal_recall_at_k = np.minimum(\n",
        "        np.ones(len(ranking)),\n",
        "         np.array(list(range(1, len(ranking) + 1)))/ (ranking == 1).sum()\n",
        "    )\n",
        "\n",
        "    return np.trapz(recall_at_k) / np.trapz(ideal_recall_at_k)"
      ]
    },
    {
      "cell_type": "code",
      "execution_count": 5,
      "metadata": {
        "id": "e0s6Kj17iHvS"
      },
      "outputs": [],
      "source": [
        "def auc_recall_at_k_np_no_df(y_true, y_conf):\n",
        "    \"\"\"\n",
        "    Experiment #3:\n",
        "    --------------\n",
        "    Compute AUC under the Recall@k curve using numpy's\n",
        "    functions. We do away with the conf_df dataframe \n",
        "    as well.\n",
        "\n",
        "    y_true: A numpy array of expected predictions\n",
        "    y_conf: A numpy array of the model's confidence\n",
        "            scores for each datapoint\n",
        "            \n",
        "    Returns: AUC-Recall@k (float)\n",
        "    \"\"\"\n",
        "\n",
        "    # if there are no positive targets (good leads),\n",
        "    # auc becomes invalid\n",
        "    if (y_true == 1).sum() == 0:\n",
        "        return np.nan\n",
        "\n",
        "    ranking = y_true[np.argsort(y_conf)[::-1]]\n",
        "\n",
        "    # calculating recall@k based on sorted ranking\n",
        "    recall_at_k = (ranking == 1).cumsum() / (ranking == 1).sum()\n",
        "\n",
        "    # calculating ideal recall@k\n",
        "    ideal_recall_at_k = np.minimum(\n",
        "        np.ones(len(ranking)),\n",
        "         np.array(list(range(1, len(ranking) + 1)))/ (ranking == 1).sum()\n",
        "    )\n",
        "\n",
        "    return np.trapz(recall_at_k) / np.trapz(ideal_recall_at_k)"
      ]
    },
    {
      "cell_type": "code",
      "execution_count": 6,
      "metadata": {
        "id": "ipIO4CgxE2oS"
      },
      "outputs": [],
      "source": [
        "@jit\n",
        "def auc_recall_at_k_np_no_df_numba(y_true, y_conf):\n",
        "    \"\"\"\n",
        "    Experiment #4:\n",
        "    --------------\n",
        "    Compute AUC under the Recall@k curve using numpy's\n",
        "    functions. We do away with the conf_df dataframe \n",
        "    as well.\n",
        "\n",
        "    Numba's jit decorator is also added for further \n",
        "    optimization.\n",
        "\n",
        "    y_true: A numpy array of expected predictions\n",
        "    y_conf: A numpy array of the model's confidence\n",
        "            scores for each datapoint\n",
        "            \n",
        "    Returns: AUC-Recall@k (float)\n",
        "    \"\"\"\n",
        "\n",
        "    # if there are no positive targets (good leads),\n",
        "    # auc becomes invalid\n",
        "    if (y_true == 1).sum() == 0:\n",
        "        return np.nan\n",
        "\n",
        "    ranking = y_true[np.argsort(y_conf)[::-1]]\n",
        "\n",
        "    # calculating recall@k based on sorted ranking\n",
        "    recall_at_k = (ranking == 1).cumsum() / (ranking == 1).sum()\n",
        "\n",
        "    # calculating ideal recall@k\n",
        "    ideal_recall_at_k = np.minimum(\n",
        "        np.ones(len(ranking)),\n",
        "         np.array(list(range(1, len(ranking) + 1)))/ (ranking == 1).sum()\n",
        "    )\n",
        "\n",
        "    return np.trapz(recall_at_k) / np.trapz(ideal_recall_at_k)"
      ]
    },
    {
      "cell_type": "markdown",
      "metadata": {
        "id": "4dT40t_VefWk"
      },
      "source": [
        "### On a dataset of size 5"
      ]
    },
    {
      "cell_type": "code",
      "execution_count": 7,
      "metadata": {
        "colab": {
          "base_uri": "https://localhost:8080/"
        },
        "id": "XrloEKxffRHO",
        "outputId": "b7fc1e72-d947-44b6-bcc4-485fbd9e269a"
      },
      "outputs": [
        {
          "name": "stdout",
          "output_type": "stream",
          "text": [
            "2.73 ms ± 63.2 µs per loop (mean ± std. dev. of 7 runs, 100 loops each)\n"
          ]
        }
      ],
      "source": [
        "t1 = %timeit -o auc_recall_at_k([1, 0, 1, 1, 0], [0.9, 0.8, 0.7, 0.6, 0.5])"
      ]
    },
    {
      "cell_type": "code",
      "execution_count": 8,
      "metadata": {
        "colab": {
          "base_uri": "https://localhost:8080/"
        },
        "id": "oZjTtiL5gKSw",
        "outputId": "8faae665-e76c-49d5-8d1b-90b93c6262e8"
      },
      "outputs": [
        {
          "name": "stdout",
          "output_type": "stream",
          "text": [
            "2.09 ms ± 56.4 µs per loop (mean ± std. dev. of 7 runs, 1000 loops each)\n"
          ]
        }
      ],
      "source": [
        "t2 = %timeit -o auc_recall_at_k_np([1, 0, 1, 1, 0], [0.9, 0.8, 0.7, 0.6, 0.5])"
      ]
    },
    {
      "cell_type": "code",
      "execution_count": 9,
      "metadata": {
        "colab": {
          "base_uri": "https://localhost:8080/"
        },
        "id": "AqS_rfBejf-c",
        "outputId": "eda8b900-7c41-481a-b6c2-88e845d940eb"
      },
      "outputs": [
        {
          "name": "stdout",
          "output_type": "stream",
          "text": [
            "76.1 µs ± 14.4 µs per loop (mean ± std. dev. of 7 runs, 10000 loops each)\n"
          ]
        }
      ],
      "source": [
        "t3 = %timeit -o auc_recall_at_k_np_no_df(np.array([1, 0, 1, 1, 0]), [0.9, 0.8, 0.7, 0.6, 0.5])"
      ]
    },
    {
      "cell_type": "code",
      "execution_count": 10,
      "metadata": {
        "colab": {
          "base_uri": "https://localhost:8080/"
        },
        "id": "FlVz0YGrlaNs",
        "outputId": "6f73022f-d4d9-4915-ad76-1cd9fa2e9e1b"
      },
      "outputs": [
        {
          "name": "stdout",
          "output_type": "stream",
          "text": [
            "The slowest run took 7.59 times longer than the fastest. This could mean that an intermediate result is being cached.\n",
            "18.5 µs ± 20.8 µs per loop (mean ± std. dev. of 7 runs, 1 loop each)\n"
          ]
        }
      ],
      "source": [
        "t4 = %timeit -o auc_recall_at_k_np_no_df_numba(np.array([1, 0, 1, 1, 0]), np.array([0.9, 0.8, 0.7, 0.6, 0.5]))"
      ]
    },
    {
      "cell_type": "code",
      "execution_count": 13,
      "metadata": {
        "colab": {
          "base_uri": "https://localhost:8080/",
          "height": 467
        },
        "id": "Q1JNu70ylyu-",
        "outputId": "76961878-a9cc-4824-b20d-af72b3d86901"
      },
      "outputs": [
        {
          "data": {
            "image/png": "[encoded data removed]",
            "text/plain": [
              "<Figure size 1080x576 with 1 Axes>"
            ]
          },
          "metadata": {},
          "output_type": "display_data"
        }
      ],
      "source": [
        "plt.title(\"On a dataset of size 5\")\n",
        "_ = plt.plot([\"1\", \"2\", \"3\", \"4\"], [t1.average, t2.average, t3.average, t4.average])"
      ]
    },
    {
      "cell_type": "markdown",
      "metadata": {
        "id": "lS0kV9HQeWUq"
      },
      "source": [
        "### On a dataset of size 100"
      ]
    },
    {
      "cell_type": "code",
      "execution_count": 14,
      "metadata": {
        "colab": {
          "base_uri": "https://localhost:8080/"
        },
        "id": "ZrnXvLCAl3mh",
        "outputId": "c7a56424-1fe1-496b-a843-79b498a3ef5c"
      },
      "outputs": [
        {
          "name": "stdout",
          "output_type": "stream",
          "text": [
            "16.4 ms ± 642 µs per loop (mean ± std. dev. of 7 runs, 100 loops each)\n"
          ]
        }
      ],
      "source": [
        "t1 = %timeit -o auc_recall_at_k(list(np.random.randint(0, 2, 100)), np.random.rand(100))"
      ]
    },
    {
      "cell_type": "code",
      "execution_count": 15,
      "metadata": {
        "colab": {
          "base_uri": "https://localhost:8080/"
        },
        "id": "sePjqtBVmOGL",
        "outputId": "a3e23f5d-405a-486e-e78e-5e83158489ed"
      },
      "outputs": [
        {
          "name": "stdout",
          "output_type": "stream",
          "text": [
            "2.28 ms ± 101 µs per loop (mean ± std. dev. of 7 runs, 100 loops each)\n"
          ]
        }
      ],
      "source": [
        "t2 = %timeit -o auc_recall_at_k_np(list(np.random.randint(0, 2, 100)), np.random.rand(100))"
      ]
    },
    {
      "cell_type": "code",
      "execution_count": 16,
      "metadata": {
        "colab": {
          "base_uri": "https://localhost:8080/"
        },
        "id": "4mwUNkhOmPe3",
        "outputId": "8ee213c5-f35b-4346-b095-25721d5e6370"
      },
      "outputs": [
        {
          "name": "stdout",
          "output_type": "stream",
          "text": [
            "89.1 µs ± 2.95 µs per loop (mean ± std. dev. of 7 runs, 10000 loops each)\n"
          ]
        }
      ],
      "source": [
        "t3 = %timeit -o auc_recall_at_k_np_no_df(np.random.randint(0, 2, 100), np.random.rand(100))"
      ]
    },
    {
      "cell_type": "code",
      "execution_count": 17,
      "metadata": {
        "colab": {
          "base_uri": "https://localhost:8080/"
        },
        "id": "QOUqnA6ualq3",
        "outputId": "00067824-bcd3-4ad0-e9e2-e0be37a6c23d"
      },
      "outputs": [
        {
          "name": "stdout",
          "output_type": "stream",
          "text": [
            "49.2 µs ± 12 µs per loop (mean ± std. dev. of 7 runs, 10000 loops each)\n"
          ]
        }
      ],
      "source": [
        "t4 = %timeit -o auc_recall_at_k_np_no_df_numba(np.random.randint(0, 2, 100), np.random.rand(100))"
      ]
    },
    {
      "cell_type": "code",
      "execution_count": 19,
      "metadata": {
        "colab": {
          "base_uri": "https://localhost:8080/",
          "height": 470
        },
        "id": "RAKYIBj4nBrZ",
        "outputId": "dc83b7fa-6af2-45d3-8698-7c269064a563"
      },
      "outputs": [
        {
          "data": {
            "image/png": "[encoded data removed]",
            "text/plain": [
              "<Figure size 1080x576 with 1 Axes>"
            ]
          },
          "metadata": {},
          "output_type": "display_data"
        }
      ],
      "source": [
        "plt.title(\"On a dataset of size 100\")\n",
        "_ = plt.plot(\n",
        "    [\"1\", \"2\", \"3\", \"4\"],\n",
        "    [t1.average, t2.average, t3.average, t4.average],\n",
        "    marker=\"|\"\n",
        ")"
      ]
    },
    {
      "cell_type": "markdown",
      "metadata": {
        "id": "tGgcYaACeQRo"
      },
      "source": [
        "### On a dataset of size 10k"
      ]
    },
    {
      "cell_type": "code",
      "execution_count": 20,
      "metadata": {
        "colab": {
          "base_uri": "https://localhost:8080/"
        },
        "id": "EF4gYgsfnXp0",
        "outputId": "c084b202-8654-465f-ff50-b3262c8cdafb"
      },
      "outputs": [
        {
          "name": "stdout",
          "output_type": "stream",
          "text": [
            "6.34 s ± 882 ms per loop (mean ± std. dev. of 7 runs, 1 loop each)\n"
          ]
        }
      ],
      "source": [
        "t1 = %timeit -o auc_recall_at_k(list(np.random.randint(0, 2, 10000)), np.random.rand(10000))"
      ]
    },
    {
      "cell_type": "code",
      "execution_count": 21,
      "metadata": {
        "colab": {
          "base_uri": "https://localhost:8080/"
        },
        "id": "QDuPLuHXnXp1",
        "outputId": "310567f3-3f0a-4489-ba71-b1a6f98cfc68"
      },
      "outputs": [
        {
          "name": "stdout",
          "output_type": "stream",
          "text": [
            "11.7 ms ± 167 µs per loop (mean ± std. dev. of 7 runs, 100 loops each)\n"
          ]
        }
      ],
      "source": [
        "t2 = %timeit -o auc_recall_at_k_np(list(np.random.randint(0, 2, 10000)), np.random.rand(10000))"
      ]
    },
    {
      "cell_type": "code",
      "execution_count": 22,
      "metadata": {
        "colab": {
          "base_uri": "https://localhost:8080/"
        },
        "id": "zNamY6rPnXp1",
        "outputId": "573971d0-3b21-40d3-a0e6-a1eac9a8ee39"
      },
      "outputs": [
        {
          "name": "stdout",
          "output_type": "stream",
          "text": [
            "2.28 ms ± 60.3 µs per loop (mean ± std. dev. of 7 runs, 100 loops each)\n"
          ]
        }
      ],
      "source": [
        "t3 = %timeit -o auc_recall_at_k_np_no_df(np.random.randint(0, 2, 10000), np.random.rand(10000))"
      ]
    },
    {
      "cell_type": "code",
      "execution_count": 23,
      "metadata": {
        "colab": {
          "base_uri": "https://localhost:8080/"
        },
        "id": "6jKBqbR7avhd",
        "outputId": "b10a21d0-2225-4776-9e08-c787f120c52a"
      },
      "outputs": [
        {
          "name": "stdout",
          "output_type": "stream",
          "text": [
            "1.5 ms ± 51 µs per loop (mean ± std. dev. of 7 runs, 1000 loops each)\n"
          ]
        }
      ],
      "source": [
        "t4 = %timeit -o auc_recall_at_k_np_no_df_numba(np.random.randint(0, 2, 10000), np.random.rand(10000))"
      ]
    },
    {
      "cell_type": "code",
      "execution_count": 24,
      "metadata": {
        "colab": {
          "base_uri": "https://localhost:8080/",
          "height": 482
        },
        "id": "NuejCf-anXp1",
        "outputId": "09d62184-30e4-4caa-acf4-d4ba6a92deb0"
      },
      "outputs": [
        {
          "data": {
            "image/png": "[encoded data removed]",
            "text/plain": [
              "<Figure size 1080x576 with 1 Axes>"
            ]
          },
          "metadata": {},
          "output_type": "display_data"
        }
      ],
      "source": [
        "plt.title(\"On a dataset of size 10k\")\n",
        "_ = plt.plot(\n",
        "    [\"1\", \"2\", \"3\", \"4\"],\n",
        "    [t1.average, t2.average, t3.average, t4.average],\n",
        "    marker=\"|\"\n",
        ")"
      ]
    },
    {
      "cell_type": "markdown",
      "metadata": {
        "id": "trv17GmQeISr"
      },
      "source": [
        "### On a dataset of size 100k\n",
        "**Note**   \n",
        "The baseline implementation takes over 6min for running on a dataset of this size. If using the timeit code below, reduce the number of runs to 1 since the default of 7 runs would take a while to finish running."
      ]
    },
    {
      "cell_type": "code",
      "execution_count": 44,
      "metadata": {
        "colab": {
          "base_uri": "https://localhost:8080/"
        },
        "id": "QeU92HBTn3JF",
        "outputId": "1710cbe3-b266-4458-a951-c75f72becaee"
      },
      "outputs": [
        {
          "name": "stdout",
          "output_type": "stream",
          "text": [
            "6min 41s ± 0 ns per loop (mean ± std. dev. of 1 run, 1 loop each)\n"
          ]
        }
      ],
      "source": [
        "t1 = %timeit -o -n 1 -r 1 auc_recall_at_k(list(np.random.randint(0, 2, 100000)), np.random.rand(100000))"
      ]
    },
    {
      "cell_type": "code",
      "execution_count": 31,
      "metadata": {
        "colab": {
          "base_uri": "https://localhost:8080/"
        },
        "id": "U-graeIzn3JG",
        "outputId": "6e5b599d-42ed-4b53-f0b8-4d557545703b"
      },
      "outputs": [
        {
          "name": "stdout",
          "output_type": "stream",
          "text": [
            "96 ms ± 1.14 ms per loop (mean ± std. dev. of 7 runs, 10 loops each)\n"
          ]
        }
      ],
      "source": [
        "t2 = %timeit -o auc_recall_at_k_np(list(np.random.randint(0, 2, 100000)), np.random.rand(100000))"
      ]
    },
    {
      "cell_type": "code",
      "execution_count": 32,
      "metadata": {
        "colab": {
          "base_uri": "https://localhost:8080/"
        },
        "id": "J7hRjdRqn3JG",
        "outputId": "9875d256-f351-4690-a67d-e8d7baf9d1f5"
      },
      "outputs": [
        {
          "name": "stdout",
          "output_type": "stream",
          "text": [
            "26.1 ms ± 360 µs per loop (mean ± std. dev. of 7 runs, 10 loops each)\n"
          ]
        }
      ],
      "source": [
        "t3 = %timeit -o auc_recall_at_k_np_no_df(np.random.randint(0, 2, 100000), np.random.rand(100000))"
      ]
    },
    {
      "cell_type": "code",
      "execution_count": 33,
      "metadata": {
        "colab": {
          "base_uri": "https://localhost:8080/"
        },
        "id": "piWJr85hr4-i",
        "outputId": "4e919cdb-a116-466f-e652-d24b70b69d07"
      },
      "outputs": [
        {
          "name": "stdout",
          "output_type": "stream",
          "text": [
            "23.1 ms ± 5.05 ms per loop (mean ± std. dev. of 7 runs, 100 loops each)\n"
          ]
        }
      ],
      "source": [
        "t4 = %timeit -o auc_recall_at_k_np_no_df_numba(np.random.randint(0, 2, 100000), np.random.rand(100000))"
      ]
    },
    {
      "cell_type": "code",
      "execution_count": 45,
      "metadata": {
        "colab": {
          "base_uri": "https://localhost:8080/",
          "height": 472
        },
        "id": "Ba7C-JExBbaZ",
        "outputId": "72394eb6-002a-4514-a42b-8c979ac8aa79"
      },
      "outputs": [
        {
          "data": {
            "image/png": "[encoded data removed]",
            "text/plain": [
              "<Figure size 1080x576 with 1 Axes>"
            ]
          },
          "metadata": {},
          "output_type": "display_data"
        }
      ],
      "source": [
        "# converting the y-axis to a log scale\n",
        "plt.yscale(\"log\")\n",
        "\n",
        "plt.title(\"On a dataset of size 100k\")\n",
        "_ = plt.plot(\n",
        "    [\"1\", \"2\", \"3\", \"4\"],\n",
        "    [t1.average, t2.average, t3.average, t4.average],\n",
        "    marker=\"|\"\n",
        ")"
      ]
    }
  ],
  "metadata": {
    "colab": {
      "provenance": []
    },
    "kernelspec": {
      "display_name": "Python 3.8.10 ('chatbot_2_6_2')",
      "language": "python",
      "name": "python3"
    },
    "language_info": {
      "name": "python",
      "version": "3.8.10"
    },
    "vscode": {
      "interpreter": {
        "hash": "34a370341cdaa314b42bc0c983d60d289d525fdd5fe51a8635e4e462800a0cbe"
      }
    }
  },
  "nbformat": 4,
  "nbformat_minor": 0
}
